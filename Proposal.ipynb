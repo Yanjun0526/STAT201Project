{
 "cells": [
  {
   "cell_type": "markdown",
   "id": "f316e15f-e4e5-477a-9365-0fb4dd2b3645",
   "metadata": {},
   "source": [
    "# Could investigate difference in proportion between men vs. women who are business owners (need finalize?)"
   ]
  },
  {
   "cell_type": "markdown",
   "id": "e385d680-5a28-4477-9531-40375ff90339",
   "metadata": {},
   "source": [
    "### Introdution\n",
    "\n",
    "Begin by providing some relevant background information on the topic so that someone unfamiliar with it will be prepared to understand the rest of your proposal.\n",
    "\n",
    "Clearly state the question you will try to answer with your project. Your question should involve one or more random variables of interest, spread across two or more categories that are interesting to compare. For example, you could consider the annual maxima river flow at two different locations along a river, or perhaps gender diversity at different universities. Of the response variable, identify one location parameter (mean, median, quantile, etc.) and one scale parameter (standard deviation, inter-quartile range, etc.) that would be useful in answering your question. Justify your choices.\n",
    "\n",
    "UPDATE (Mar 1, 2022): If it doesn’t make sense to infer a scale parameter, you can choose another parameter, or choose a second variable altogether. Ultimately, we’re looking for a comprehensive inference analysis on one parameter spread across 2+ groups (with at least one hypothesis test), plus a bit more (such as an investigation on the variance, a quantile, or a different variable). In total, you should use both bootstrapping and asymptotics somewhere in your report at least once each. Also, your hypothesis test(s) need not be significant: it is perfectly fine to write a report claiming no significant findings (i.e. your p-value is large).\n",
    "\n",
    "Identify and describe the dataset that will be used to answer the question. Remember, this dataset is allowed to contain more variables than you need – feel free to drop them!\n",
    "\n",
    "Also, be sure to frame your question/objectives in terms of what is already known in the literature. Be sure to include at least two scientific publications that can help frame your study (you will need to include these in the References section). We have no specific citation style requirements, but be consistent.\n",
    "\n",
    "- Background information: Why is it important? Cite some relevant literature\n",
    "- What is your (inferential) research question?\n",
    "- What is your population of interest?\n",
    "- How do you collect your data?\n",
    "- What is your point estimate? (e.g., mean difference between male and female income, proportions of Democrats voters, etc.)\n",
    "- State your hypothesis if applicable"
   ]
  },
  {
   "cell_type": "markdown",
   "id": "cbd6bf0d-b948-4779-88c4-6d86fe6a5aa0",
   "metadata": {},
   "source": [
    "### Preliminary Results\n",
    "\n",
    "- Demonstrate that the dataset can be read from the web into R.\n",
    "- Clean and wrangle your data into a tidy format.\n",
    "- Plot the relevant raw data, tailoring your plot in a way that addresses your question.\n",
    "- Compute estimates of the parameter you identified across your groups. Present this in a table. If relevant, include these estimates in your plot.\n",
    "\n",
    "Be sure to not print output that takes up a lot of screen space."
   ]
  },
  {
   "cell_type": "markdown",
   "id": "4386b0ae-b638-4f66-b812-3ff3c7d80f2b",
   "metadata": {},
   "source": [
    "### Methods: Plan\n",
    "The previous sections will carry over to your final report (you’ll be allowed to improve them based on feedback you get). Begin this Methods section with a brief description of “the good things” about this report – specifically, in what ways is this report trustworthy?\n",
    "\n",
    "Continue by explaining why the plot(s) and estimates that you produced are not enough to give to a stakeholder, and what you should provide in addition to address this gap. Make sure your plans include at least one hypothesis test and one confidence interval. If possible, compare both the bootstrapping and asymptotics methods.\n",
    "\n",
    "Finish this section by reflecting on how your final report might play out:\n",
    "\n",
    "- What do you expect to find?\n",
    "- What impact could such findings have?\n",
    "- What future questions could this lead to?\n"
   ]
  },
  {
   "cell_type": "markdown",
   "id": "09c06ef7-76db-4fee-a050-bf22ac8e6dda",
   "metadata": {},
   "source": [
    "### References\n",
    "\n",
    "At least two citations of literature relevant to the project. The citation format is your choice – just be consistent. Make sure to cite the source of your data as well."
   ]
  }
 ],
 "metadata": {
  "kernelspec": {
   "display_name": "",
   "name": ""
  },
  "language_info": {
   "name": ""
  }
 },
 "nbformat": 4,
 "nbformat_minor": 5
}
